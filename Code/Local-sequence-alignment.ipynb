{
 "cells": [
  {
   "cell_type": "markdown",
   "metadata": {},
   "source": [
    "# Local Sequence Alignment\n",
    "\n",
    "This is my first computational biology project. I was inspired to undertake this project after following the MIT open course called [Foundations of Computational and Systems Biology](https://ocw.mit.edu/courses/biology/7-91j-foundations-of-computational-and-systems-biology-spring-2014/index.htm) by **Prof. Christopher Burge**. Much of my code was inspired by **Prof. Ben Langmead**, which can be found [here](https://github.com/BenLangmead/comp-genomics-class/blob/master/notebooks/CG_DP_Local.ipynb), and the Stackoverflow community. Here, I use the same sequences and scoring penalties as Prof. Langmead so i can cross-reference my output with his for correctness.\n",
    "\n",
    "## What is it?\n",
    "Local sequence alignment takes two sequences and finds two sub sequences with the best alignment based on matching bases between the two sequences. The best alignment can have base matches (eg. G to G), missmatches (eg. G to A), or gaps (eg. G to -). A common strategy to determine local sequence alignment utilizes the Smith Waterman algorithm, which is described here [here](https://en.wikipedia.org/wiki/Smith–Waterman_algorithm#Gap_penalty)."
   ]
  },
  {
   "cell_type": "markdown",
   "metadata": {},
   "source": [
    "### Dynamic programming algorithm\n",
    "\n",
    "I start by adding a couple of DNA sequences (sx and sy) for testing the algorithm, defining two arrays (one to keep track of the score (matrix) and another to keep track of the direction the score came from (pointer)), and creating a *smith_waterman* function that fills both \"matrix\" and \"pointer\" arrays. This algoritm utilizes a linear gap penalty."
   ]
  },
  {
   "cell_type": "code",
   "execution_count": 17,
   "metadata": {},
   "outputs": [],
   "source": [
    "import numpy\n",
    "        \n",
    "sx = \"GGTATGCTGGCGCTA\"\n",
    "sy = \"TATATGCGGCGTTT\"\n",
    "match, indelx, indely = 1, 2, 3\n",
    "\n",
    "def smith_waterman(x, y):\n",
    "    matrix = numpy.zeros((len(x) + 1, len(y) + 1), dtype = int)\n",
    "    pointer = numpy.zeros((len(x) + 1, len(y) + 1), dtype = int)\n",
    "    match_s, mis_s, gap = 2, -4, -6\n",
    "    for n in range(1, len(x) + 1):\n",
    "        for m in range(1, len(y) + 1):\n",
    "            align = (matrix[n-1, m-1] + (match_s if x[n-1] == y[m-1] else mis_s), match)\n",
    "            indel_x = (matrix[n, m-1] + gap, indelx)\n",
    "            indel_y = (matrix[n-1, m] + gap, indely)\n",
    "            matrix[n, m], pointer[n, m] = max(align, indel_x, indel_y, (0, 0))\n",
    "    return matrix, pointer"
   ]
  },
  {
   "cell_type": "code",
   "execution_count": 18,
   "metadata": {},
   "outputs": [
    {
     "name": "stdout",
     "output_type": "stream",
     "text": [
      "[[ 0  0  0  0  0  0  0  0  0  0  0  0  0  0  0]\n",
      " [ 0  0  0  0  0  0  2  0  2  2  0  2  0  0  0]\n",
      " [ 0  0  0  0  0  0  2  0  2  4  0  2  0  0  0]\n",
      " [ 0  2  0  2  0  2  0  0  0  0  0  0  4  2  2]\n",
      " [ 0  0  4  0  4  0  0  0  0  0  0  0  0  0  0]\n",
      " [ 0  2  0  6  0  6  0  0  0  0  0  0  2  2  2]\n",
      " [ 0  0  0  0  2  0  8  2  2  2  0  2  0  0  0]\n",
      " [ 0  0  0  0  0  0  2 10  4  0  4  0  0  0  0]\n",
      " [ 0  2  0  2  0  2  0  4  6  0  0  0  2  2  2]\n",
      " [ 0  0  0  0  0  0  4  0  6  8  2  2  0  0  0]\n",
      " [ 0  0  0  0  0  0  2  0  2  8  4  4  0  0  0]\n",
      " [ 0  0  0  0  0  0  0  4  0  2 10  4  0  0  0]\n",
      " [ 0  0  0  0  0  0  2  0  6  2  4 12  6  0  0]\n",
      " [ 0  0  0  0  0  0  0  4  0  2  4  6  8  2  0]\n",
      " [ 0  2  0  2  0  2  0  0  0  0  0  0  8 10  4]\n",
      " [ 0  0  4  0  4  0  0  0  0  0  0  0  2  4  6]]\n",
      "The largest score is 12 in cell (12, 11)\n"
     ]
    }
   ],
   "source": [
    "matrix, pointer = smith_waterman(sx, sy)\n",
    "print(matrix)\n",
    "print(\"The largest score is %s in cell %s\" \n",
    "      % (numpy.max(matrix), numpy.unravel_index(matrix.argmax(), matrix.shape)))"
   ]
  },
  {
   "cell_type": "markdown",
   "metadata": {},
   "source": [
    "### Traceback the alignment\n",
    "\n",
    "Next I define traceback that uses the pointer array to determine the best alignment of sx and sy strands."
   ]
  },
  {
   "cell_type": "code",
   "execution_count": 19,
   "metadata": {},
   "outputs": [],
   "source": [
    "def traceback(m, p, x, y):\n",
    "    seqx, mid, seqy = [], [], []\n",
    "    n, m = numpy.unravel_index(matrix.argmax(), matrix.shape)\n",
    "    while ((n or m) > 0) and pointer[n, m] != 0:\n",
    "        if pointer[n, m] == match:\n",
    "            seqx.append(x[n-1])\n",
    "            mid.append('|')\n",
    "            seqy.append(y[m-1])\n",
    "            n -= 1\n",
    "            m -= 1\n",
    "        if pointer[n, m] == indelx:\n",
    "            seqx.append('-')\n",
    "            mid.append(' ')\n",
    "            seqy.append(y[m-1])\n",
    "            m -= 1\n",
    "        if pointer[n, m] == indely:\n",
    "            seqx.append(x[n-1])\n",
    "            mid.append(' ')\n",
    "            seqy.append('-')\n",
    "            n -= 1\n",
    "    alignment = '\\n'.join(map(lambda a: ''.join(a), [seqx[::-1], mid[::-1], seqy[::-1]]))\n",
    "    return alignment, n, m"
   ]
  },
  {
   "cell_type": "code",
   "execution_count": 20,
   "metadata": {},
   "outputs": [
    {
     "name": "stdout",
     "output_type": "stream",
     "text": [
      "best alignment starts in cell (3, 3) \n",
      "and ends in cell (12, 11)\n",
      "TATGCTGGCG\n",
      "||||| ||||\n",
      "TATGC-GGCG\n"
     ]
    }
   ],
   "source": [
    "alignment, n, m = traceback(matrix, pointer, sx, sy)\n",
    "print(\"best alignment starts in cell %s \\nand ends in cell %s\" \n",
    "      % ((n+1, m+1), numpy.unravel_index(matrix.argmax(), matrix.shape)))\n",
    "print(alignment)"
   ]
  }
 ],
 "metadata": {
  "kernelspec": {
   "display_name": "Python 3",
   "language": "python",
   "name": "python3"
  },
  "language_info": {
   "codemirror_mode": {
    "name": "ipython",
    "version": 3
   },
   "file_extension": ".py",
   "mimetype": "text/x-python",
   "name": "python",
   "nbconvert_exporter": "python",
   "pygments_lexer": "ipython3",
   "version": "3.8.5"
  }
 },
 "nbformat": 4,
 "nbformat_minor": 4
}
